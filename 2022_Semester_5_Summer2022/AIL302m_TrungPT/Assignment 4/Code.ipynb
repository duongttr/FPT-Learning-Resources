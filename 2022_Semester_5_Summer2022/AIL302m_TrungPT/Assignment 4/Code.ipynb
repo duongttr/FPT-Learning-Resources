{
  "nbformat": 4,
  "nbformat_minor": 0,
  "metadata": {
    "colab": {
      "provenance": [],
      "collapsed_sections": [],
      "machine_shape": "hm"
    },
    "kernelspec": {
      "name": "python3",
      "display_name": "Python 3"
    },
    "language_info": {
      "name": "python"
    },
    "accelerator": "GPU",
    "gpuClass": "standard"
  },
  "cells": [
    {
      "cell_type": "markdown",
      "source": [
        "# SVM and GridSearchCV\n",
        "- Name: **Trần Thanh Dương (SE160185)**\n",
        "- Class: **AIL302m**\n",
        "\n",
        "In this notebook, I will use SVM for classification and GridSearchCV for finding hyperparameters which give best performance."
      ],
      "metadata": {
        "id": "Ycds5TZWTxzv"
      }
    },
    {
      "cell_type": "code",
      "execution_count": null,
      "metadata": {
        "id": "L4xkkJ0xnfSo"
      },
      "outputs": [],
      "source": [
        "import numpy as np\n",
        "import pandas as pd\n",
        "import seaborn as sns\n",
        "import matplotlib.pyplot as plt\n",
        "from sklearn.svm import SVC\n",
        "import re\n",
        "from matplotlib.axes._axes import _log as matplotlib_axes_logger\n",
        "from matplotlib.colors import ListedColormap\n",
        "from mpl_toolkits import mplot3d\n",
        "from sklearn.metrics import accuracy_score\n",
        "from sklearn.metrics import plot_confusion_matrix\n",
        "from sklearn.datasets import make_classification"
      ]
    },
    {
      "cell_type": "code",
      "source": [
        "# Dataset url\n",
        "DATASET_URL = \"https://gist.githubusercontent.com/duongttr/ff8728ebd7601e67c7d9eca1e86663ce/raw/02b90bb36befb7a7ca95747eaf21309511f796de/Food.csv\""
      ],
      "metadata": {
        "id": "EFe5k4b3ni9m"
      },
      "execution_count": null,
      "outputs": []
    },
    {
      "cell_type": "code",
      "source": [
        "# Watch how the dataset look like\n",
        "df = pd.read_csv(DATASET_URL)\n",
        "df.head(10)"
      ],
      "metadata": {
        "colab": {
          "base_uri": "https://localhost:8080/",
          "height": 731
        },
        "id": "LjMgqbpDoyKc",
        "outputId": "7e05f844-cd94-4288-9dff-e6521a66a936"
      },
      "execution_count": null,
      "outputs": [
        {
          "output_type": "execute_result",
          "data": {
            "text/plain": [
              "      e  no. video Student ID Full name           id  \\\n",
              "0   1.0       51.0        NaN       NaN  5OzrpNCyXqs   \n",
              "1   2.0       51.0        NaN       NaN  5OzrpNCyXqs   \n",
              "2   3.0       51.0        NaN       NaN  5OzrpNCyXqs   \n",
              "3   4.0       51.0        NaN       NaN  5OzrpNCyXqs   \n",
              "4   5.0       51.0        NaN       NaN  5OzrpNCyXqs   \n",
              "5   6.0       51.0        NaN       NaN  5OzrpNCyXqs   \n",
              "6   7.0       51.0        NaN       NaN  5OzrpNCyXqs   \n",
              "7   8.0       51.0        NaN       NaN  5OzrpNCyXqs   \n",
              "8   9.0       52.0        NaN       NaN  3qfTtx3yG5U   \n",
              "9  10.0       52.0        NaN       NaN  3qfTtx3yG5U   \n",
              "\n",
              "                             standardized dish  \\\n",
              "0                        snail vermicelli soup   \n",
              "1  vermicelli with fried tofu and shrimp paste   \n",
              "2                            fried spring roll   \n",
              "3                  steamed rolled rice pancake   \n",
              "4                                  shrimp cake   \n",
              "5                                 boiled snail   \n",
              "6                                  rolling pho   \n",
              "7                                          pho   \n",
              "8                                      banh mi   \n",
              "9                                   egg coffee   \n",
              "\n",
              "        dish occurence (based on transcript)      dish imply start time  \\\n",
              "0                                     bun oc             NaN       1:05   \n",
              "1                            bun dau mam tom             NaN       3:32   \n",
              "2                                spring roll             NaN       5:23   \n",
              "3                                  banh cuon             NaN       6:22   \n",
              "4                                shrimp cake             NaN       9:42   \n",
              "5                snails cooked in lemongrass  ốc bươu hấp sả      12:28   \n",
              "6                                   pho cuon             NaN      15:20   \n",
              "7                                   pho tron     phở gà trộn      19:10   \n",
              "8                                    banh mi             NaN       2:03   \n",
              "9                                     coffee             NaN       2:26   \n",
              "\n",
              "  end time  ...                        sauce (based on transcript)  \\\n",
              "0     3:21  ...                                                NaN   \n",
              "1     6:10  ...  fish sauce, fermented shrimp paste, pepper, ch...   \n",
              "2     6:10  ...               fish sauce, sweet spicy garlic sauce   \n",
              "3     9:23  ...  garlic water, fried caramelized scallion, pepp...   \n",
              "4    11:55  ...                           chili, sweet spicy sauce   \n",
              "5    15:17  ...  fish sauce, chili, lime leaves, garlic, lemong...   \n",
              "6    18:25  ...                     sweet fish sauce, green papaya   \n",
              "7    22:33  ...                                                NaN   \n",
              "8     2:18  ...                                                NaN   \n",
              "9     2:52  ...                                                NaN   \n",
              "\n",
              "               venue container describe how to make it  \\\n",
              "0  street restaurant      bowl                       1   \n",
              "1  street restaurant      tray                       1   \n",
              "2  street restaurant     plate                       0   \n",
              "3  street restaurant     plate                       1   \n",
              "4  street restaurant     plate                       1   \n",
              "5  casual restaurant      bowl                       0   \n",
              "6  street restaurant     plate                       1   \n",
              "7  street restaurant      bowl                       1   \n",
              "8  casual restaurant       bag                       1   \n",
              "9  casual restaurant     glass                       0   \n",
              "\n",
              "  viewer feeling of youtuber's style  viewer feeling of presented food  \\\n",
              "0                                   4                              NaN   \n",
              "1                                   4                              NaN   \n",
              "2                                   5                              NaN   \n",
              "3                                   5                              NaN   \n",
              "4                                   4                              NaN   \n",
              "5                                   5                              NaN   \n",
              "6                                   5                              NaN   \n",
              "7                                   5                              NaN   \n",
              "8                                   3                              NaN   \n",
              "9                                   4                              NaN   \n",
              "\n",
              "  YouTuber feeling location foreigner Unnamed: 24  \n",
              "0                5       HN         1         NaN  \n",
              "1                4       HN         1         NaN  \n",
              "2                5       HN         1         NaN  \n",
              "3                5       HN         1         NaN  \n",
              "4                5       HN         1         NaN  \n",
              "5                5       HN         1         NaN  \n",
              "6                5       HN         1         NaN  \n",
              "7                5       HN         1         NaN  \n",
              "8                3       HN         1         NaN  \n",
              "9                4       HN         1         NaN  \n",
              "\n",
              "[10 rows x 25 columns]"
            ],
            "text/html": [
              "\n",
              "  <div id=\"df-3e169e85-6592-47ad-be18-928c2b7d5eca\">\n",
              "    <div class=\"colab-df-container\">\n",
              "      <div>\n",
              "<style scoped>\n",
              "    .dataframe tbody tr th:only-of-type {\n",
              "        vertical-align: middle;\n",
              "    }\n",
              "\n",
              "    .dataframe tbody tr th {\n",
              "        vertical-align: top;\n",
              "    }\n",
              "\n",
              "    .dataframe thead th {\n",
              "        text-align: right;\n",
              "    }\n",
              "</style>\n",
              "<table border=\"1\" class=\"dataframe\">\n",
              "  <thead>\n",
              "    <tr style=\"text-align: right;\">\n",
              "      <th></th>\n",
              "      <th>e</th>\n",
              "      <th>no. video</th>\n",
              "      <th>Student ID</th>\n",
              "      <th>Full name</th>\n",
              "      <th>id</th>\n",
              "      <th>standardized dish</th>\n",
              "      <th>dish occurence (based on transcript)</th>\n",
              "      <th>dish imply</th>\n",
              "      <th>start time</th>\n",
              "      <th>end time</th>\n",
              "      <th>...</th>\n",
              "      <th>sauce (based on transcript)</th>\n",
              "      <th>venue</th>\n",
              "      <th>container</th>\n",
              "      <th>describe how to make it</th>\n",
              "      <th>viewer feeling of youtuber's style</th>\n",
              "      <th>viewer feeling of presented food</th>\n",
              "      <th>YouTuber feeling</th>\n",
              "      <th>location</th>\n",
              "      <th>foreigner</th>\n",
              "      <th>Unnamed: 24</th>\n",
              "    </tr>\n",
              "  </thead>\n",
              "  <tbody>\n",
              "    <tr>\n",
              "      <th>0</th>\n",
              "      <td>1.0</td>\n",
              "      <td>51.0</td>\n",
              "      <td>NaN</td>\n",
              "      <td>NaN</td>\n",
              "      <td>5OzrpNCyXqs</td>\n",
              "      <td>snail vermicelli soup</td>\n",
              "      <td>bun oc</td>\n",
              "      <td>NaN</td>\n",
              "      <td>1:05</td>\n",
              "      <td>3:21</td>\n",
              "      <td>...</td>\n",
              "      <td>NaN</td>\n",
              "      <td>street restaurant</td>\n",
              "      <td>bowl</td>\n",
              "      <td>1</td>\n",
              "      <td>4</td>\n",
              "      <td>NaN</td>\n",
              "      <td>5</td>\n",
              "      <td>HN</td>\n",
              "      <td>1</td>\n",
              "      <td>NaN</td>\n",
              "    </tr>\n",
              "    <tr>\n",
              "      <th>1</th>\n",
              "      <td>2.0</td>\n",
              "      <td>51.0</td>\n",
              "      <td>NaN</td>\n",
              "      <td>NaN</td>\n",
              "      <td>5OzrpNCyXqs</td>\n",
              "      <td>vermicelli with fried tofu and shrimp paste</td>\n",
              "      <td>bun dau mam tom</td>\n",
              "      <td>NaN</td>\n",
              "      <td>3:32</td>\n",
              "      <td>6:10</td>\n",
              "      <td>...</td>\n",
              "      <td>fish sauce, fermented shrimp paste, pepper, ch...</td>\n",
              "      <td>street restaurant</td>\n",
              "      <td>tray</td>\n",
              "      <td>1</td>\n",
              "      <td>4</td>\n",
              "      <td>NaN</td>\n",
              "      <td>4</td>\n",
              "      <td>HN</td>\n",
              "      <td>1</td>\n",
              "      <td>NaN</td>\n",
              "    </tr>\n",
              "    <tr>\n",
              "      <th>2</th>\n",
              "      <td>3.0</td>\n",
              "      <td>51.0</td>\n",
              "      <td>NaN</td>\n",
              "      <td>NaN</td>\n",
              "      <td>5OzrpNCyXqs</td>\n",
              "      <td>fried spring roll</td>\n",
              "      <td>spring roll</td>\n",
              "      <td>NaN</td>\n",
              "      <td>5:23</td>\n",
              "      <td>6:10</td>\n",
              "      <td>...</td>\n",
              "      <td>fish sauce, sweet spicy garlic sauce</td>\n",
              "      <td>street restaurant</td>\n",
              "      <td>plate</td>\n",
              "      <td>0</td>\n",
              "      <td>5</td>\n",
              "      <td>NaN</td>\n",
              "      <td>5</td>\n",
              "      <td>HN</td>\n",
              "      <td>1</td>\n",
              "      <td>NaN</td>\n",
              "    </tr>\n",
              "    <tr>\n",
              "      <th>3</th>\n",
              "      <td>4.0</td>\n",
              "      <td>51.0</td>\n",
              "      <td>NaN</td>\n",
              "      <td>NaN</td>\n",
              "      <td>5OzrpNCyXqs</td>\n",
              "      <td>steamed rolled rice pancake</td>\n",
              "      <td>banh cuon</td>\n",
              "      <td>NaN</td>\n",
              "      <td>6:22</td>\n",
              "      <td>9:23</td>\n",
              "      <td>...</td>\n",
              "      <td>garlic water, fried caramelized scallion, pepp...</td>\n",
              "      <td>street restaurant</td>\n",
              "      <td>plate</td>\n",
              "      <td>1</td>\n",
              "      <td>5</td>\n",
              "      <td>NaN</td>\n",
              "      <td>5</td>\n",
              "      <td>HN</td>\n",
              "      <td>1</td>\n",
              "      <td>NaN</td>\n",
              "    </tr>\n",
              "    <tr>\n",
              "      <th>4</th>\n",
              "      <td>5.0</td>\n",
              "      <td>51.0</td>\n",
              "      <td>NaN</td>\n",
              "      <td>NaN</td>\n",
              "      <td>5OzrpNCyXqs</td>\n",
              "      <td>shrimp cake</td>\n",
              "      <td>shrimp cake</td>\n",
              "      <td>NaN</td>\n",
              "      <td>9:42</td>\n",
              "      <td>11:55</td>\n",
              "      <td>...</td>\n",
              "      <td>chili, sweet spicy sauce</td>\n",
              "      <td>street restaurant</td>\n",
              "      <td>plate</td>\n",
              "      <td>1</td>\n",
              "      <td>4</td>\n",
              "      <td>NaN</td>\n",
              "      <td>5</td>\n",
              "      <td>HN</td>\n",
              "      <td>1</td>\n",
              "      <td>NaN</td>\n",
              "    </tr>\n",
              "    <tr>\n",
              "      <th>5</th>\n",
              "      <td>6.0</td>\n",
              "      <td>51.0</td>\n",
              "      <td>NaN</td>\n",
              "      <td>NaN</td>\n",
              "      <td>5OzrpNCyXqs</td>\n",
              "      <td>boiled snail</td>\n",
              "      <td>snails cooked in lemongrass</td>\n",
              "      <td>ốc bươu hấp sả</td>\n",
              "      <td>12:28</td>\n",
              "      <td>15:17</td>\n",
              "      <td>...</td>\n",
              "      <td>fish sauce, chili, lime leaves, garlic, lemong...</td>\n",
              "      <td>casual restaurant</td>\n",
              "      <td>bowl</td>\n",
              "      <td>0</td>\n",
              "      <td>5</td>\n",
              "      <td>NaN</td>\n",
              "      <td>5</td>\n",
              "      <td>HN</td>\n",
              "      <td>1</td>\n",
              "      <td>NaN</td>\n",
              "    </tr>\n",
              "    <tr>\n",
              "      <th>6</th>\n",
              "      <td>7.0</td>\n",
              "      <td>51.0</td>\n",
              "      <td>NaN</td>\n",
              "      <td>NaN</td>\n",
              "      <td>5OzrpNCyXqs</td>\n",
              "      <td>rolling pho</td>\n",
              "      <td>pho cuon</td>\n",
              "      <td>NaN</td>\n",
              "      <td>15:20</td>\n",
              "      <td>18:25</td>\n",
              "      <td>...</td>\n",
              "      <td>sweet fish sauce, green papaya</td>\n",
              "      <td>street restaurant</td>\n",
              "      <td>plate</td>\n",
              "      <td>1</td>\n",
              "      <td>5</td>\n",
              "      <td>NaN</td>\n",
              "      <td>5</td>\n",
              "      <td>HN</td>\n",
              "      <td>1</td>\n",
              "      <td>NaN</td>\n",
              "    </tr>\n",
              "    <tr>\n",
              "      <th>7</th>\n",
              "      <td>8.0</td>\n",
              "      <td>51.0</td>\n",
              "      <td>NaN</td>\n",
              "      <td>NaN</td>\n",
              "      <td>5OzrpNCyXqs</td>\n",
              "      <td>pho</td>\n",
              "      <td>pho tron</td>\n",
              "      <td>phở gà trộn</td>\n",
              "      <td>19:10</td>\n",
              "      <td>22:33</td>\n",
              "      <td>...</td>\n",
              "      <td>NaN</td>\n",
              "      <td>street restaurant</td>\n",
              "      <td>bowl</td>\n",
              "      <td>1</td>\n",
              "      <td>5</td>\n",
              "      <td>NaN</td>\n",
              "      <td>5</td>\n",
              "      <td>HN</td>\n",
              "      <td>1</td>\n",
              "      <td>NaN</td>\n",
              "    </tr>\n",
              "    <tr>\n",
              "      <th>8</th>\n",
              "      <td>9.0</td>\n",
              "      <td>52.0</td>\n",
              "      <td>NaN</td>\n",
              "      <td>NaN</td>\n",
              "      <td>3qfTtx3yG5U</td>\n",
              "      <td>banh mi</td>\n",
              "      <td>banh mi</td>\n",
              "      <td>NaN</td>\n",
              "      <td>2:03</td>\n",
              "      <td>2:18</td>\n",
              "      <td>...</td>\n",
              "      <td>NaN</td>\n",
              "      <td>casual restaurant</td>\n",
              "      <td>bag</td>\n",
              "      <td>1</td>\n",
              "      <td>3</td>\n",
              "      <td>NaN</td>\n",
              "      <td>3</td>\n",
              "      <td>HN</td>\n",
              "      <td>1</td>\n",
              "      <td>NaN</td>\n",
              "    </tr>\n",
              "    <tr>\n",
              "      <th>9</th>\n",
              "      <td>10.0</td>\n",
              "      <td>52.0</td>\n",
              "      <td>NaN</td>\n",
              "      <td>NaN</td>\n",
              "      <td>3qfTtx3yG5U</td>\n",
              "      <td>egg coffee</td>\n",
              "      <td>coffee</td>\n",
              "      <td>NaN</td>\n",
              "      <td>2:26</td>\n",
              "      <td>2:52</td>\n",
              "      <td>...</td>\n",
              "      <td>NaN</td>\n",
              "      <td>casual restaurant</td>\n",
              "      <td>glass</td>\n",
              "      <td>0</td>\n",
              "      <td>4</td>\n",
              "      <td>NaN</td>\n",
              "      <td>4</td>\n",
              "      <td>HN</td>\n",
              "      <td>1</td>\n",
              "      <td>NaN</td>\n",
              "    </tr>\n",
              "  </tbody>\n",
              "</table>\n",
              "<p>10 rows × 25 columns</p>\n",
              "</div>\n",
              "      <button class=\"colab-df-convert\" onclick=\"convertToInteractive('df-3e169e85-6592-47ad-be18-928c2b7d5eca')\"\n",
              "              title=\"Convert this dataframe to an interactive table.\"\n",
              "              style=\"display:none;\">\n",
              "        \n",
              "  <svg xmlns=\"http://www.w3.org/2000/svg\" height=\"24px\"viewBox=\"0 0 24 24\"\n",
              "       width=\"24px\">\n",
              "    <path d=\"M0 0h24v24H0V0z\" fill=\"none\"/>\n",
              "    <path d=\"M18.56 5.44l.94 2.06.94-2.06 2.06-.94-2.06-.94-.94-2.06-.94 2.06-2.06.94zm-11 1L8.5 8.5l.94-2.06 2.06-.94-2.06-.94L8.5 2.5l-.94 2.06-2.06.94zm10 10l.94 2.06.94-2.06 2.06-.94-2.06-.94-.94-2.06-.94 2.06-2.06.94z\"/><path d=\"M17.41 7.96l-1.37-1.37c-.4-.4-.92-.59-1.43-.59-.52 0-1.04.2-1.43.59L10.3 9.45l-7.72 7.72c-.78.78-.78 2.05 0 2.83L4 21.41c.39.39.9.59 1.41.59.51 0 1.02-.2 1.41-.59l7.78-7.78 2.81-2.81c.8-.78.8-2.07 0-2.86zM5.41 20L4 18.59l7.72-7.72 1.47 1.35L5.41 20z\"/>\n",
              "  </svg>\n",
              "      </button>\n",
              "      \n",
              "  <style>\n",
              "    .colab-df-container {\n",
              "      display:flex;\n",
              "      flex-wrap:wrap;\n",
              "      gap: 12px;\n",
              "    }\n",
              "\n",
              "    .colab-df-convert {\n",
              "      background-color: #E8F0FE;\n",
              "      border: none;\n",
              "      border-radius: 50%;\n",
              "      cursor: pointer;\n",
              "      display: none;\n",
              "      fill: #1967D2;\n",
              "      height: 32px;\n",
              "      padding: 0 0 0 0;\n",
              "      width: 32px;\n",
              "    }\n",
              "\n",
              "    .colab-df-convert:hover {\n",
              "      background-color: #E2EBFA;\n",
              "      box-shadow: 0px 1px 2px rgba(60, 64, 67, 0.3), 0px 1px 3px 1px rgba(60, 64, 67, 0.15);\n",
              "      fill: #174EA6;\n",
              "    }\n",
              "\n",
              "    [theme=dark] .colab-df-convert {\n",
              "      background-color: #3B4455;\n",
              "      fill: #D2E3FC;\n",
              "    }\n",
              "\n",
              "    [theme=dark] .colab-df-convert:hover {\n",
              "      background-color: #434B5C;\n",
              "      box-shadow: 0px 1px 3px 1px rgba(0, 0, 0, 0.15);\n",
              "      filter: drop-shadow(0px 1px 2px rgba(0, 0, 0, 0.3));\n",
              "      fill: #FFFFFF;\n",
              "    }\n",
              "  </style>\n",
              "\n",
              "      <script>\n",
              "        const buttonEl =\n",
              "          document.querySelector('#df-3e169e85-6592-47ad-be18-928c2b7d5eca button.colab-df-convert');\n",
              "        buttonEl.style.display =\n",
              "          google.colab.kernel.accessAllowed ? 'block' : 'none';\n",
              "\n",
              "        async function convertToInteractive(key) {\n",
              "          const element = document.querySelector('#df-3e169e85-6592-47ad-be18-928c2b7d5eca');\n",
              "          const dataTable =\n",
              "            await google.colab.kernel.invokeFunction('convertToInteractive',\n",
              "                                                     [key], {});\n",
              "          if (!dataTable) return;\n",
              "\n",
              "          const docLinkHtml = 'Like what you see? Visit the ' +\n",
              "            '<a target=\"_blank\" href=https://colab.research.google.com/notebooks/data_table.ipynb>data table notebook</a>'\n",
              "            + ' to learn more about interactive tables.';\n",
              "          element.innerHTML = '';\n",
              "          dataTable['output_type'] = 'display_data';\n",
              "          await google.colab.output.renderOutput(dataTable, element);\n",
              "          const docLink = document.createElement('div');\n",
              "          docLink.innerHTML = docLinkHtml;\n",
              "          element.appendChild(docLink);\n",
              "        }\n",
              "      </script>\n",
              "    </div>\n",
              "  </div>\n",
              "  "
            ]
          },
          "metadata": {},
          "execution_count": 3
        }
      ]
    },
    {
      "cell_type": "code",
      "source": [
        "# Required features for training model\n",
        "features = ['start time', 'end time', 'Unnamed: 11', 'venue', 'container', 'describe how to make it',\n",
        "            'viewer feeling of youtuber\\'s style ']\n",
        "\n",
        "data = df[features].dropna() # Firstly, drop all NaN value in dataset\n",
        "\n",
        "# Remove all unknown values\n",
        "data = data[data['start time'].str.contains('start') == False]\n",
        "data = data[data['start time'].str.contains('Start') == False]\n",
        "data = data[data['end time'].str.contains('x') == False]\n",
        "data = data[data['end time'].str.contains('end') == False]\n",
        "data = data[data['end time'].str.contains('End') == False]\n",
        "data = data[data['end time'].str.contains('x') == False]\n",
        "\n",
        "# Rename columns' names\n",
        "data = data.rename(columns={'Unnamed: 11': 'ingre_count', 'describe how to make it': 'is_described', \n",
        "             \"viewer feeling of youtuber\\'s style \": 'feeling'})\n",
        "\n",
        "# Convert feeling type\n",
        "data['feeling'] = data['feeling'].astype(int).replace({0: 1})\n",
        "\n",
        "# Replace unspecificed values\n",
        "data['venue'] = data['venue'].replace({'boat restaurant': 'other', 'home': 'other'})\n",
        "data['container']=data['container'].replace(\n",
        "              {'hand': 'hands-on', 'no': 'hands-on', 'clay bot': 'pot', 'tray ': 'tray',\n",
        "              'plastic glass': 'glass', 'Bag': 'bag', 'cup': 'glass'})\n",
        "\n",
        "data=data[data['is_described'] != '3']\n",
        "data['is_described']=data['is_described'].astype(int)\n",
        "\n",
        "# Calculate duration\n",
        "pattern = '(\\d+).*?[;:].*?(\\d+)'\n",
        "def calculate_duration(row):\n",
        "  import re\n",
        "  pattern = '(\\d+).*?[;:.].*?(\\d+)'\n",
        "  start_time = row[0]\n",
        "  end_time = row[1]\n",
        "\n",
        "  try:\n",
        "    start_min, start_sd = list(map(int, re.findall(pattern, start_time)[0]))\n",
        "    end_min, end_sd = list(map(int, re.findall(pattern, end_time)[0]))\n",
        "  except:\n",
        "    print(row)\n",
        "    return 0\n",
        "\n",
        "  return end_min * 60 + end_sd - (start_min *60 + start_sd)\n",
        "\n",
        "data['duration'] = data.apply(calculate_duration, axis=1)\n",
        "data = data[data['duration'] > 0]\n",
        "\n",
        "data=data.drop(labels=['start time', 'end time'], axis=1)\n",
        "\n",
        "data['venue']=data['venue'].replace({v: k for k, v in dict(enumerate(data['venue'].unique())).items()})\n",
        "data['container']=data['container'].replace({v: k for k, v in dict(enumerate(data['container'].unique())).items()})\n",
        "\n",
        "OH_venue = pd.get_dummies(data['venue'], 'venue')\n",
        "OH_container = pd.get_dummies(data['container'], 'container')\n",
        "\n",
        "data=data.drop(labels=['venue', 'container'], axis=1)\n",
        "data=data.join([OH_venue, OH_container])\n",
        "\n",
        "y = data['feeling']\n",
        "X = data.drop('feeling', axis=1)\n",
        "# Make feature more-likely normal distribution\n",
        "X['duration'] = np.log(X['duration'] + 1e-8)\n",
        "X['ingre_count'] = np.log(X['ingre_count'] + 0.05)"
      ],
      "metadata": {
        "id": "rKaH7dfPoy6g"
      },
      "execution_count": null,
      "outputs": []
    },
    {
      "cell_type": "code",
      "source": [
        "X.head(10)"
      ],
      "metadata": {
        "colab": {
          "base_uri": "https://localhost:8080/",
          "height": 363
        },
        "id": "SFjcrHCSrG72",
        "outputId": "468a1262-6477-4ea3-bf24-35f12ed09410"
      },
      "execution_count": null,
      "outputs": [
        {
          "output_type": "execute_result",
          "data": {
            "text/plain": [
              "   ingre_count  is_described  duration  venue_0  venue_1  venue_2  venue_3  \\\n",
              "0     2.202765             1  4.912655        1        0        0        0   \n",
              "1     2.402430             1  5.062595        1        0        0        0   \n",
              "2     1.398717             0  3.850148        1        0        0        0   \n",
              "3     1.619388             1  5.198497        1        0        0        0   \n",
              "4     1.398717             1  4.890349        1        0        0        0   \n",
              "5     1.619388             0  5.129899        0        1        0        0   \n",
              "6     1.953028             1  5.220356        1        0        0        0   \n",
              "7     2.836150             1  5.313206        1        0        0        0   \n",
              "8     1.619388             1  2.708050        0        1        0        0   \n",
              "9     1.115142             0  3.258097        0        1        0        0   \n",
              "\n",
              "   container_0  container_1  container_2  container_3  container_4  \\\n",
              "0            1            0            0            0            0   \n",
              "1            0            1            0            0            0   \n",
              "2            0            0            1            0            0   \n",
              "3            0            0            1            0            0   \n",
              "4            0            0            1            0            0   \n",
              "5            1            0            0            0            0   \n",
              "6            0            0            1            0            0   \n",
              "7            1            0            0            0            0   \n",
              "8            0            0            0            1            0   \n",
              "9            0            0            0            0            1   \n",
              "\n",
              "   container_5  container_6  container_7  container_8  container_9  \n",
              "0            0            0            0            0            0  \n",
              "1            0            0            0            0            0  \n",
              "2            0            0            0            0            0  \n",
              "3            0            0            0            0            0  \n",
              "4            0            0            0            0            0  \n",
              "5            0            0            0            0            0  \n",
              "6            0            0            0            0            0  \n",
              "7            0            0            0            0            0  \n",
              "8            0            0            0            0            0  \n",
              "9            0            0            0            0            0  "
            ],
            "text/html": [
              "\n",
              "  <div id=\"df-a0c5657a-7b22-4972-bc84-01effc37202b\">\n",
              "    <div class=\"colab-df-container\">\n",
              "      <div>\n",
              "<style scoped>\n",
              "    .dataframe tbody tr th:only-of-type {\n",
              "        vertical-align: middle;\n",
              "    }\n",
              "\n",
              "    .dataframe tbody tr th {\n",
              "        vertical-align: top;\n",
              "    }\n",
              "\n",
              "    .dataframe thead th {\n",
              "        text-align: right;\n",
              "    }\n",
              "</style>\n",
              "<table border=\"1\" class=\"dataframe\">\n",
              "  <thead>\n",
              "    <tr style=\"text-align: right;\">\n",
              "      <th></th>\n",
              "      <th>ingre_count</th>\n",
              "      <th>is_described</th>\n",
              "      <th>duration</th>\n",
              "      <th>venue_0</th>\n",
              "      <th>venue_1</th>\n",
              "      <th>venue_2</th>\n",
              "      <th>venue_3</th>\n",
              "      <th>container_0</th>\n",
              "      <th>container_1</th>\n",
              "      <th>container_2</th>\n",
              "      <th>container_3</th>\n",
              "      <th>container_4</th>\n",
              "      <th>container_5</th>\n",
              "      <th>container_6</th>\n",
              "      <th>container_7</th>\n",
              "      <th>container_8</th>\n",
              "      <th>container_9</th>\n",
              "    </tr>\n",
              "  </thead>\n",
              "  <tbody>\n",
              "    <tr>\n",
              "      <th>0</th>\n",
              "      <td>2.202765</td>\n",
              "      <td>1</td>\n",
              "      <td>4.912655</td>\n",
              "      <td>1</td>\n",
              "      <td>0</td>\n",
              "      <td>0</td>\n",
              "      <td>0</td>\n",
              "      <td>1</td>\n",
              "      <td>0</td>\n",
              "      <td>0</td>\n",
              "      <td>0</td>\n",
              "      <td>0</td>\n",
              "      <td>0</td>\n",
              "      <td>0</td>\n",
              "      <td>0</td>\n",
              "      <td>0</td>\n",
              "      <td>0</td>\n",
              "    </tr>\n",
              "    <tr>\n",
              "      <th>1</th>\n",
              "      <td>2.402430</td>\n",
              "      <td>1</td>\n",
              "      <td>5.062595</td>\n",
              "      <td>1</td>\n",
              "      <td>0</td>\n",
              "      <td>0</td>\n",
              "      <td>0</td>\n",
              "      <td>0</td>\n",
              "      <td>1</td>\n",
              "      <td>0</td>\n",
              "      <td>0</td>\n",
              "      <td>0</td>\n",
              "      <td>0</td>\n",
              "      <td>0</td>\n",
              "      <td>0</td>\n",
              "      <td>0</td>\n",
              "      <td>0</td>\n",
              "    </tr>\n",
              "    <tr>\n",
              "      <th>2</th>\n",
              "      <td>1.398717</td>\n",
              "      <td>0</td>\n",
              "      <td>3.850148</td>\n",
              "      <td>1</td>\n",
              "      <td>0</td>\n",
              "      <td>0</td>\n",
              "      <td>0</td>\n",
              "      <td>0</td>\n",
              "      <td>0</td>\n",
              "      <td>1</td>\n",
              "      <td>0</td>\n",
              "      <td>0</td>\n",
              "      <td>0</td>\n",
              "      <td>0</td>\n",
              "      <td>0</td>\n",
              "      <td>0</td>\n",
              "      <td>0</td>\n",
              "    </tr>\n",
              "    <tr>\n",
              "      <th>3</th>\n",
              "      <td>1.619388</td>\n",
              "      <td>1</td>\n",
              "      <td>5.198497</td>\n",
              "      <td>1</td>\n",
              "      <td>0</td>\n",
              "      <td>0</td>\n",
              "      <td>0</td>\n",
              "      <td>0</td>\n",
              "      <td>0</td>\n",
              "      <td>1</td>\n",
              "      <td>0</td>\n",
              "      <td>0</td>\n",
              "      <td>0</td>\n",
              "      <td>0</td>\n",
              "      <td>0</td>\n",
              "      <td>0</td>\n",
              "      <td>0</td>\n",
              "    </tr>\n",
              "    <tr>\n",
              "      <th>4</th>\n",
              "      <td>1.398717</td>\n",
              "      <td>1</td>\n",
              "      <td>4.890349</td>\n",
              "      <td>1</td>\n",
              "      <td>0</td>\n",
              "      <td>0</td>\n",
              "      <td>0</td>\n",
              "      <td>0</td>\n",
              "      <td>0</td>\n",
              "      <td>1</td>\n",
              "      <td>0</td>\n",
              "      <td>0</td>\n",
              "      <td>0</td>\n",
              "      <td>0</td>\n",
              "      <td>0</td>\n",
              "      <td>0</td>\n",
              "      <td>0</td>\n",
              "    </tr>\n",
              "    <tr>\n",
              "      <th>5</th>\n",
              "      <td>1.619388</td>\n",
              "      <td>0</td>\n",
              "      <td>5.129899</td>\n",
              "      <td>0</td>\n",
              "      <td>1</td>\n",
              "      <td>0</td>\n",
              "      <td>0</td>\n",
              "      <td>1</td>\n",
              "      <td>0</td>\n",
              "      <td>0</td>\n",
              "      <td>0</td>\n",
              "      <td>0</td>\n",
              "      <td>0</td>\n",
              "      <td>0</td>\n",
              "      <td>0</td>\n",
              "      <td>0</td>\n",
              "      <td>0</td>\n",
              "    </tr>\n",
              "    <tr>\n",
              "      <th>6</th>\n",
              "      <td>1.953028</td>\n",
              "      <td>1</td>\n",
              "      <td>5.220356</td>\n",
              "      <td>1</td>\n",
              "      <td>0</td>\n",
              "      <td>0</td>\n",
              "      <td>0</td>\n",
              "      <td>0</td>\n",
              "      <td>0</td>\n",
              "      <td>1</td>\n",
              "      <td>0</td>\n",
              "      <td>0</td>\n",
              "      <td>0</td>\n",
              "      <td>0</td>\n",
              "      <td>0</td>\n",
              "      <td>0</td>\n",
              "      <td>0</td>\n",
              "    </tr>\n",
              "    <tr>\n",
              "      <th>7</th>\n",
              "      <td>2.836150</td>\n",
              "      <td>1</td>\n",
              "      <td>5.313206</td>\n",
              "      <td>1</td>\n",
              "      <td>0</td>\n",
              "      <td>0</td>\n",
              "      <td>0</td>\n",
              "      <td>1</td>\n",
              "      <td>0</td>\n",
              "      <td>0</td>\n",
              "      <td>0</td>\n",
              "      <td>0</td>\n",
              "      <td>0</td>\n",
              "      <td>0</td>\n",
              "      <td>0</td>\n",
              "      <td>0</td>\n",
              "      <td>0</td>\n",
              "    </tr>\n",
              "    <tr>\n",
              "      <th>8</th>\n",
              "      <td>1.619388</td>\n",
              "      <td>1</td>\n",
              "      <td>2.708050</td>\n",
              "      <td>0</td>\n",
              "      <td>1</td>\n",
              "      <td>0</td>\n",
              "      <td>0</td>\n",
              "      <td>0</td>\n",
              "      <td>0</td>\n",
              "      <td>0</td>\n",
              "      <td>1</td>\n",
              "      <td>0</td>\n",
              "      <td>0</td>\n",
              "      <td>0</td>\n",
              "      <td>0</td>\n",
              "      <td>0</td>\n",
              "      <td>0</td>\n",
              "    </tr>\n",
              "    <tr>\n",
              "      <th>9</th>\n",
              "      <td>1.115142</td>\n",
              "      <td>0</td>\n",
              "      <td>3.258097</td>\n",
              "      <td>0</td>\n",
              "      <td>1</td>\n",
              "      <td>0</td>\n",
              "      <td>0</td>\n",
              "      <td>0</td>\n",
              "      <td>0</td>\n",
              "      <td>0</td>\n",
              "      <td>0</td>\n",
              "      <td>1</td>\n",
              "      <td>0</td>\n",
              "      <td>0</td>\n",
              "      <td>0</td>\n",
              "      <td>0</td>\n",
              "      <td>0</td>\n",
              "    </tr>\n",
              "  </tbody>\n",
              "</table>\n",
              "</div>\n",
              "      <button class=\"colab-df-convert\" onclick=\"convertToInteractive('df-a0c5657a-7b22-4972-bc84-01effc37202b')\"\n",
              "              title=\"Convert this dataframe to an interactive table.\"\n",
              "              style=\"display:none;\">\n",
              "        \n",
              "  <svg xmlns=\"http://www.w3.org/2000/svg\" height=\"24px\"viewBox=\"0 0 24 24\"\n",
              "       width=\"24px\">\n",
              "    <path d=\"M0 0h24v24H0V0z\" fill=\"none\"/>\n",
              "    <path d=\"M18.56 5.44l.94 2.06.94-2.06 2.06-.94-2.06-.94-.94-2.06-.94 2.06-2.06.94zm-11 1L8.5 8.5l.94-2.06 2.06-.94-2.06-.94L8.5 2.5l-.94 2.06-2.06.94zm10 10l.94 2.06.94-2.06 2.06-.94-2.06-.94-.94-2.06-.94 2.06-2.06.94z\"/><path d=\"M17.41 7.96l-1.37-1.37c-.4-.4-.92-.59-1.43-.59-.52 0-1.04.2-1.43.59L10.3 9.45l-7.72 7.72c-.78.78-.78 2.05 0 2.83L4 21.41c.39.39.9.59 1.41.59.51 0 1.02-.2 1.41-.59l7.78-7.78 2.81-2.81c.8-.78.8-2.07 0-2.86zM5.41 20L4 18.59l7.72-7.72 1.47 1.35L5.41 20z\"/>\n",
              "  </svg>\n",
              "      </button>\n",
              "      \n",
              "  <style>\n",
              "    .colab-df-container {\n",
              "      display:flex;\n",
              "      flex-wrap:wrap;\n",
              "      gap: 12px;\n",
              "    }\n",
              "\n",
              "    .colab-df-convert {\n",
              "      background-color: #E8F0FE;\n",
              "      border: none;\n",
              "      border-radius: 50%;\n",
              "      cursor: pointer;\n",
              "      display: none;\n",
              "      fill: #1967D2;\n",
              "      height: 32px;\n",
              "      padding: 0 0 0 0;\n",
              "      width: 32px;\n",
              "    }\n",
              "\n",
              "    .colab-df-convert:hover {\n",
              "      background-color: #E2EBFA;\n",
              "      box-shadow: 0px 1px 2px rgba(60, 64, 67, 0.3), 0px 1px 3px 1px rgba(60, 64, 67, 0.15);\n",
              "      fill: #174EA6;\n",
              "    }\n",
              "\n",
              "    [theme=dark] .colab-df-convert {\n",
              "      background-color: #3B4455;\n",
              "      fill: #D2E3FC;\n",
              "    }\n",
              "\n",
              "    [theme=dark] .colab-df-convert:hover {\n",
              "      background-color: #434B5C;\n",
              "      box-shadow: 0px 1px 3px 1px rgba(0, 0, 0, 0.15);\n",
              "      filter: drop-shadow(0px 1px 2px rgba(0, 0, 0, 0.3));\n",
              "      fill: #FFFFFF;\n",
              "    }\n",
              "  </style>\n",
              "\n",
              "      <script>\n",
              "        const buttonEl =\n",
              "          document.querySelector('#df-a0c5657a-7b22-4972-bc84-01effc37202b button.colab-df-convert');\n",
              "        buttonEl.style.display =\n",
              "          google.colab.kernel.accessAllowed ? 'block' : 'none';\n",
              "\n",
              "        async function convertToInteractive(key) {\n",
              "          const element = document.querySelector('#df-a0c5657a-7b22-4972-bc84-01effc37202b');\n",
              "          const dataTable =\n",
              "            await google.colab.kernel.invokeFunction('convertToInteractive',\n",
              "                                                     [key], {});\n",
              "          if (!dataTable) return;\n",
              "\n",
              "          const docLinkHtml = 'Like what you see? Visit the ' +\n",
              "            '<a target=\"_blank\" href=https://colab.research.google.com/notebooks/data_table.ipynb>data table notebook</a>'\n",
              "            + ' to learn more about interactive tables.';\n",
              "          element.innerHTML = '';\n",
              "          dataTable['output_type'] = 'display_data';\n",
              "          await google.colab.output.renderOutput(dataTable, element);\n",
              "          const docLink = document.createElement('div');\n",
              "          docLink.innerHTML = docLinkHtml;\n",
              "          element.appendChild(docLink);\n",
              "        }\n",
              "      </script>\n",
              "    </div>\n",
              "  </div>\n",
              "  "
            ]
          },
          "metadata": {},
          "execution_count": 5
        }
      ]
    },
    {
      "cell_type": "code",
      "source": [
        "from sklearn.decomposition import PCA\n",
        "pca = PCA(n_components=2)\n",
        "X_transformed = pca.fit_transform(X, y)"
      ],
      "metadata": {
        "id": "j5B-U1JYlFS1"
      },
      "execution_count": null,
      "outputs": []
    },
    {
      "cell_type": "code",
      "source": [
        "plt.scatter(X_transformed[y == 1][:, 0],X_transformed[y == 1][:, 1], c='b', marker='x', label='1')\n",
        "plt.scatter(X_transformed[y == 2][:, 0],X_transformed[y == 2][:, 1], c='r', marker='x', label='2')\n",
        "plt.scatter(X_transformed[y == 3][:, 0],X_transformed[y == 3][:, 1], c='g', marker='x', label='3')\n",
        "plt.scatter(X_transformed[y == 4][:, 0],X_transformed[y == 4][:, 1], c='y', marker='x', label='4')\n",
        "plt.scatter(X_transformed[y == 5][:, 0],X_transformed[y == 5][:, 1], c='c', marker='x', label='5')\n",
        "plt.title(\"Kept information percent: \" + str(pca.explained_variance_ratio_.sum()))\n",
        "plt.legend(loc='best')\n",
        "plt.show()"
      ],
      "metadata": {
        "colab": {
          "base_uri": "https://localhost:8080/",
          "height": 281
        },
        "id": "Jm3io2kDlq6B",
        "outputId": "7b279fb1-048f-425c-ab9e-e582bdccfedd"
      },
      "execution_count": null,
      "outputs": [
        {
          "output_type": "display_data",
          "data": {
            "text/plain": [
              "<Figure size 432x288 with 1 Axes>"
            ],
            "image/png": "[encoded data removed]"
          },
          "metadata": {
            "needs_background": "light"
          }
        }
      ]
    },
    {
      "cell_type": "code",
      "source": [
        "from sklearn.model_selection import train_test_split\n",
        "from imblearn.over_sampling import RandomOverSampler\n",
        "\n",
        "ros = RandomOverSampler(random_state=99)\n",
        "\n",
        "X_train, X_test, y_train, y_test = train_test_split(X, y, random_state=21, test_size=0.2, stratify=y)\n",
        "\n",
        "y_train = y_train.to_numpy() - np.ones_like(y_train)\n",
        "y_test = y_test.to_numpy() - np.ones_like(y_test)\n",
        "\n",
        "X_train_resampled, y_train_resampled = ros.fit_resample(X_train, y_train)"
      ],
      "metadata": {
        "id": "qZktQ3EYrkBw"
      },
      "execution_count": null,
      "outputs": []
    },
    {
      "cell_type": "code",
      "source": [
        "from sklearn.metrics import accuracy_score, precision_score, recall_score, f1_score, confusion_matrix"
      ],
      "metadata": {
        "id": "dQD-CdHNXe-x"
      },
      "execution_count": null,
      "outputs": []
    },
    {
      "cell_type": "code",
      "source": [
        "svc = SVC(C=1000, kernel=\"rbf\")\n",
        "svc.fit(X_train, y_train)\n",
        "\n",
        "print(\"---Train---\")\n",
        "y_train_pred = svc.predict(X_train)\n",
        "print(\"Accuracy:\", accuracy_score(y_train, y_train_pred))\n",
        "print(\"Precision:\", precision_score(y_train, y_train_pred, average='weighted'))\n",
        "print(\"Recall:\", recall_score(y_train, y_train_pred, average='weighted'))\n",
        "print(\"F1-Score:\", f1_score(y_train, y_train_pred, average='weighted'))\n",
        "\n",
        "print(\"---Test---\")\n",
        "y_test_pred = svc.predict(X_test)\n",
        "print(\"Accuracy:\", accuracy_score(y_test, y_test_pred))\n",
        "print(\"Precision:\", precision_score(y_test, y_test_pred, average='weighted'))\n",
        "print(\"Recall:\", recall_score(y_test, y_test_pred, average='weighted'))\n",
        "print(\"F1-Score:\", f1_score(y_test, y_test_pred, average='weighted'))"
      ],
      "metadata": {
        "id": "2dqBHZDCluK_",
        "outputId": "e7a50e86-45f0-459f-8fe5-d88ea7d494f0",
        "colab": {
          "base_uri": "https://localhost:8080/"
        }
      },
      "execution_count": null,
      "outputs": [
        {
          "output_type": "stream",
          "name": "stdout",
          "text": [
            "---Train---\n",
            "Accuracy: 0.5488904299583911\n",
            "Precision: 0.579693738489449\n",
            "Recall: 0.5488904299583911\n",
            "F1-Score: 0.5321202345479094\n",
            "---Test---\n",
            "Accuracy: 0.42382271468144045\n",
            "Precision: 0.42415715627847933\n",
            "Recall: 0.42382271468144045\n",
            "F1-Score: 0.4114775807197296\n"
          ]
        }
      ]
    },
    {
      "cell_type": "code",
      "source": [
        "conf_matrix = confusion_matrix(y_test, y_test_pred)\n",
        "sns.heatmap(conf_matrix, annot=True, cmap='Blues')"
      ],
      "metadata": {
        "id": "jgK-tnijYBCK",
        "outputId": "3de61f98-3b91-4b13-aef7-1f6bb5f644bd",
        "colab": {
          "base_uri": "https://localhost:8080/",
          "height": 282
        }
      },
      "execution_count": null,
      "outputs": [
        {
          "output_type": "execute_result",
          "data": {
            "text/plain": [
              "<matplotlib.axes._subplots.AxesSubplot at 0x7f374534d490>"
            ]
          },
          "metadata": {},
          "execution_count": 11
        },
        {
          "output_type": "display_data",
          "data": {
            "text/plain": [
              "<Figure size 432x288 with 2 Axes>"
            ],
            "image/png": "[encoded data removed]"
          },
          "metadata": {
            "needs_background": "light"
          }
        }
      ]
    },
    {
      "cell_type": "code",
      "source": [
        "svc = SVC(C=1000, kernel=\"rbf\")\n",
        "svc.fit(X_train_resampled, y_train_resampled)\n",
        "\n",
        "print(\"---Train---\")\n",
        "y_train_pred = svc.predict(X_train_resampled)\n",
        "print(\"Accuracy:\", accuracy_score(y_train_resampled, y_train_pred))\n",
        "print(\"Precision:\", precision_score(y_train_resampled, y_train_pred, average='weighted'))\n",
        "print(\"Recall:\", recall_score(y_train_resampled, y_train_pred, average='weighted'))\n",
        "print(\"F1-Score:\", f1_score(y_train_resampled, y_train_pred, average='weighted'))\n",
        "\n",
        "print(\"---Test---\")\n",
        "y_test_pred = svc.predict(X_test)\n",
        "print(\"Accuracy:\", accuracy_score(y_test, y_test_pred))\n",
        "print(\"Precision:\", precision_score(y_test, y_test_pred, average='weighted'))\n",
        "print(\"Recall:\", recall_score(y_test, y_test_pred, average='weighted'))\n",
        "print(\"F1-Score:\", f1_score(y_test, y_test_pred, average='weighted'))"
      ],
      "metadata": {
        "id": "OcV_hdccl-0V",
        "outputId": "838506c8-76dd-41e3-808d-6245973704b5",
        "colab": {
          "base_uri": "https://localhost:8080/"
        }
      },
      "execution_count": null,
      "outputs": [
        {
          "output_type": "stream",
          "name": "stdout",
          "text": [
            "---Train---\n",
            "Accuracy: 0.6223214285714286\n",
            "Precision: 0.6078036547378796\n",
            "Recall: 0.6223214285714286\n",
            "F1-Score: 0.6042691679907265\n",
            "---Test---\n",
            "Accuracy: 0.3185595567867036\n",
            "Precision: 0.3994777878471239\n",
            "Recall: 0.3185595567867036\n",
            "F1-Score: 0.3306947713080121\n"
          ]
        }
      ]
    },
    {
      "cell_type": "code",
      "source": [
        "conf_matrix = confusion_matrix(y_test, y_test_pred)\n",
        "sns.heatmap(conf_matrix, annot=True, cmap='Blues')"
      ],
      "metadata": {
        "id": "nd6Sw0ibYKyz",
        "outputId": "063ed89f-1e02-4387-d4f4-09c9740218fb",
        "colab": {
          "base_uri": "https://localhost:8080/",
          "height": 284
        }
      },
      "execution_count": null,
      "outputs": [
        {
          "output_type": "execute_result",
          "data": {
            "text/plain": [
              "<matplotlib.axes._subplots.AxesSubplot at 0x7f3744347d90>"
            ]
          },
          "metadata": {},
          "execution_count": 13
        },
        {
          "output_type": "display_data",
          "data": {
            "text/plain": [
              "<Figure size 432x288 with 2 Axes>"
            ],
            "image/png": "[encoded data removed]"
          },
          "metadata": {
            "needs_background": "light"
          }
        }
      ]
    },
    {
      "cell_type": "code",
      "source": [
        "from sklearn.model_selection import GridSearchCV"
      ],
      "metadata": {
        "id": "Rl2OLatwuoKk"
      },
      "execution_count": null,
      "outputs": []
    },
    {
      "cell_type": "markdown",
      "source": [
        "# SVM + GridSearchCV + without oversampling dataset"
      ],
      "metadata": {
        "id": "WhtC3HfAW_X_"
      }
    },
    {
      "cell_type": "code",
      "source": [
        "parameters = [{'C': [1, 10, 100], 'kernel': ['linear']},\n",
        "              {'C': [1, 10, 100, 1000], 'gamma': ['scale', 'auto', 1, 0.1, 0.01], 'kernel': ['rbf']},\n",
        "              {'C': [1, 10, 100], 'coef0': [0, 0.5, 1], 'gamma': ['scale', 'auto', 1, 0.1, 0.01], 'kernel': ['sigmoid']},\n",
        "              {'C': [1, 10], 'degree': [2],  'gamma': ['scale', 'auto', 1, 0.1, 0.01], 'kernel': ['poly']}]\n",
        "\n",
        "clf = GridSearchCV(SVC(random_state=99), \n",
        "                   parameters, scoring='accuracy', verbose=4)"
      ],
      "metadata": {
        "id": "_EmOiSYRsdhx"
      },
      "execution_count": null,
      "outputs": []
    },
    {
      "cell_type": "code",
      "source": [
        "clf.fit(X_train, y_train)"
      ],
      "metadata": {
        "id": "Uhk7ZcV7wlxL"
      },
      "execution_count": null,
      "outputs": []
    },
    {
      "cell_type": "code",
      "source": [
        "print(\"Best estimator:\", clf.best_estimator_)\n",
        "print(\"Best score:\",clf.best_score_)\n",
        "print(\"Best params:\",clf.best_params_)\n",
        "print(\"Best index:\",clf.best_index_)"
      ],
      "metadata": {
        "id": "1T-gvEnRqWYa"
      },
      "execution_count": null,
      "outputs": []
    },
    {
      "cell_type": "code",
      "source": [
        "df = pd.DataFrame(clf.cv_results_)\n",
        "df.to_csv('result.csv')"
      ],
      "metadata": {
        "id": "OK7IKnsMU5n1"
      },
      "execution_count": null,
      "outputs": []
    },
    {
      "cell_type": "code",
      "source": [
        "best_C = clf.best_estimator_.C\n",
        "best_gamma = clf.best_estimator_.gamma\n",
        "best_kernel = clf.best_estimator_.kernel\n",
        "final_svc = SVC(C=best_C, gamma=best_gamma, kernel=best_kernel)\n",
        "\n",
        "final_svc.fit(X_train, y_train)"
      ],
      "metadata": {
        "id": "Rty5FCCZVT7N"
      },
      "execution_count": null,
      "outputs": []
    },
    {
      "cell_type": "code",
      "source": [
        "print(\"---Train---\")\n",
        "y_train_pred = final_svc.predict(X_train)\n",
        "print(\"Accuracy:\", accuracy_score(y_train, y_train_pred))\n",
        "print(\"Precision:\", precision_score(y_train, y_train_pred, average='weighted', zero_division=0))\n",
        "print(\"Recall:\", recall_score(y_train, y_train_pred, average='weighted', zero_division=0))\n",
        "print(\"F1-Score:\", f1_score(y_train, y_train_pred, average='weighted', zero_division=0))\n",
        "\n",
        "print(\"---Test---\")\n",
        "y_test_pred = final_svc.predict(X_test)\n",
        "print(\"Accuracy:\", accuracy_score(y_test, y_test_pred))\n",
        "print(\"Precision:\", precision_score(y_test, y_test_pred, average='weighted', zero_division=0))\n",
        "print(\"Recall:\", recall_score(y_test, y_test_pred, average='weighted', zero_division=0))\n",
        "print(\"F1-Score:\", f1_score(y_test, y_test_pred, average='weighted', zero_division=0))"
      ],
      "metadata": {
        "id": "kgYYH_6oVuDE"
      },
      "execution_count": null,
      "outputs": []
    },
    {
      "cell_type": "code",
      "source": [
        "conf_matrix = confusion_matrix(y_test, y_test_pred)\n",
        "sns.heatmap(conf_matrix, annot=True, cmap='Blues')"
      ],
      "metadata": {
        "id": "AX8X5x71XV6W"
      },
      "execution_count": null,
      "outputs": []
    },
    {
      "cell_type": "markdown",
      "source": [
        "# SVM + GridSearchCV + oversampling dataset"
      ],
      "metadata": {
        "id": "6QG2VDtvYe3U"
      }
    },
    {
      "cell_type": "code",
      "source": [
        "clf_2 = GridSearchCV(SVC(random_state=99), \n",
        "                   parameters, scoring='accuracy', n_jobs=-1, verbose=True)"
      ],
      "metadata": {
        "id": "_HZjbdtRYhk7"
      },
      "execution_count": null,
      "outputs": []
    },
    {
      "cell_type": "code",
      "source": [
        "clf_2.fit(X_train_resampled, y_train_resampled)"
      ],
      "metadata": {
        "id": "fR1To3yYYlhm"
      },
      "execution_count": null,
      "outputs": []
    },
    {
      "cell_type": "code",
      "source": [
        "print(\"Best estimator:\", clf_2.best_estimator_)\n",
        "print(\"Best score:\",clf_2.best_score_)\n",
        "print(\"Best params:\",clf_2.best_params_)\n",
        "print(\"Best index:\",clf_2.best_index_)"
      ],
      "metadata": {
        "id": "j6tqo7J6Yp4E"
      },
      "execution_count": null,
      "outputs": []
    },
    {
      "cell_type": "code",
      "source": [
        "df_2 = pd.DataFrame(clf_2.cv_results_)\n",
        "df_2.to_csv('result_2.csv')"
      ],
      "metadata": {
        "id": "EM24FZBIY2QR"
      },
      "execution_count": null,
      "outputs": []
    },
    {
      "cell_type": "code",
      "source": [
        "best_C = clf_2.best_estimator_.C\n",
        "best_gamma = clf_2.best_estimator_.gamma\n",
        "best_kernel = clf_2.best_estimator_.kernel\n",
        "final_svc_2 = SVC(C=best_C, gamma=best_gamma, kernel=best_kernel)\n",
        "\n",
        "final_svc_2.fit(X_train_resampled, y_train_resampled)"
      ],
      "metadata": {
        "id": "L1UvTye3Y6lq"
      },
      "execution_count": null,
      "outputs": []
    },
    {
      "cell_type": "code",
      "source": [
        "print(\"---Train---\")\n",
        "y_train_pred = final_svc_2.predict(X_train_resampled)\n",
        "print(\"Accuracy:\", accuracy_score(y_train_resampled, y_train_pred))\n",
        "print(\"Precision:\", precision_score(y_train_resampled, y_train_pred, average='weighted', zero_division=0))\n",
        "print(\"Recall:\", recall_score(y_train_resampled, y_train_pred, average='weighted', zero_division=0))\n",
        "print(\"F1-Score:\", f1_score(y_train_resampled, y_train_pred, average='weighted', zero_division=0))\n",
        "\n",
        "print(\"---Test---\")\n",
        "y_test_pred = final_svc_2.predict(X_test)\n",
        "print(\"Accuracy:\", accuracy_score(y_test, y_test_pred))\n",
        "print(\"Precision:\", precision_score(y_test, y_test_pred, average='weighted', zero_division=0))\n",
        "print(\"Recall:\", recall_score(y_test, y_test_pred, average='weighted', zero_division=0))\n",
        "print(\"F1-Score:\", f1_score(y_test, y_test_pred, average='weighted', zero_division=0))"
      ],
      "metadata": {
        "id": "foQi2RAvZCnf"
      },
      "execution_count": null,
      "outputs": []
    },
    {
      "cell_type": "code",
      "source": [
        "conf_matrix = confusion_matrix(y_test, y_test_pred)\n",
        "sns.heatmap(conf_matrix, annot=True, cmap='Blues')"
      ],
      "metadata": {
        "id": "PeXuYeSiZKaq"
      },
      "execution_count": null,
      "outputs": []
    },
    {
      "cell_type": "markdown",
      "source": [
        "# How C and gamma affect the results"
      ],
      "metadata": {
        "id": "2qesOT0P3B3V"
      }
    },
    {
      "cell_type": "code",
      "source": [
        "matplotlib_axes_logger.setLevel('ERROR')\n",
        "zero_one_colourmap_pts = ListedColormap(('red', 'green'))\n",
        "zero_one_colourmap_boundary = ListedColormap(('#FFCCCB', '#90EE90'))"
      ],
      "metadata": {
        "id": "uLRrpaPACZOZ"
      },
      "execution_count": null,
      "outputs": []
    },
    {
      "cell_type": "code",
      "source": [
        "def plot_decision_boundary(X, y, clf):\n",
        "  X_set, y_set = X, y\n",
        "  X1, X2 = np.meshgrid(np.arange(start = X_set[:, 0].min() - 1, \n",
        "                                 stop = X_set[:, 0].max() + 1, \n",
        "                                 step = 0.01),\n",
        "                       np.arange(start = X_set[:, 1].min() - 1, \n",
        "                                 stop = X_set[:, 1].max() + 1, \n",
        "                                 step = 0.01))\n",
        "  plt.figure(figsize=(5,5))\n",
        "  plt.contourf(X1, X2, clf.predict(np.array([X1.ravel(), \n",
        "                                             X2.ravel()]).T).reshape(X1.shape),\n",
        "               alpha = 0.75, \n",
        "               cmap = zero_one_colourmap_boundary)\n",
        "  plt.xlim(X1.min(), X1.max())\n",
        "  plt.ylim(X2.min(), X2.max())\n",
        "  for i, j in enumerate(np.unique(y_set)):\n",
        "    plt.scatter(X_set[y_set == j, 0], X_set[y_set == j, 1],\n",
        "                c = (zero_one_colourmap_pts)(i), label = j)\n",
        "  plt.title('SVM Decision Boundary')\n",
        "  plt.xlabel('X1')\n",
        "  plt.ylabel('X2')\n",
        "  plt.legend()\n",
        "  return plt.show()"
      ],
      "metadata": {
        "id": "vymjalqdCb8U"
      },
      "execution_count": null,
      "outputs": []
    },
    {
      "cell_type": "code",
      "source": [
        "def generate_clf(input_gamma, input_C=1):\n",
        "  classifier = SVC(kernel=\"rbf\", gamma=input_gamma, C=input_C)\n",
        "  classifier.fit(X, y.ravel())\n",
        "  y_pred = classifier.predict(X)\n",
        "  print(\"Training Accuracy = {}\".format(accuracy_score(y_pred, y)))\n",
        "  return classifier"
      ],
      "metadata": {
        "id": "UlQoHkPnFweG"
      },
      "execution_count": null,
      "outputs": []
    },
    {
      "cell_type": "code",
      "source": [
        "X, y = make_classification(n_samples=200, n_features=2, n_informative=2, n_redundant=0, random_state=1)"
      ],
      "metadata": {
        "id": "3vsGtjjICd00"
      },
      "execution_count": null,
      "outputs": []
    },
    {
      "cell_type": "code",
      "source": [
        "plt.figure(figsize=(5,5))\n",
        "plt.title(\"SVM Gamma Example\", fontsize=18)\n",
        "plt.scatter(X[:,0], X[:,1], c=y, cmap=zero_one_colourmap_pts)"
      ],
      "metadata": {
        "colab": {
          "base_uri": "https://localhost:8080/",
          "height": 357
        },
        "id": "7ZJgz40tChPd",
        "outputId": "741e34c2-630e-4ce1-b525-aff74bbb91d5"
      },
      "execution_count": null,
      "outputs": [
        {
          "output_type": "execute_result",
          "data": {
            "text/plain": [
              "<matplotlib.collections.PathCollection at 0x7f3744265990>"
            ]
          },
          "metadata": {},
          "execution_count": 19
        },
        {
          "output_type": "display_data",
          "data": {
            "text/plain": [
              "<Figure size 360x360 with 1 Axes>"
            ],
            "image/png": "[encoded data removed]"
          },
          "metadata": {
            "needs_background": "light"
          }
        }
      ]
    },
    {
      "cell_type": "markdown",
      "source": [
        "## Gamma"
      ],
      "metadata": {
        "id": "Z7jk_t_xIS44"
      }
    },
    {
      "cell_type": "code",
      "source": [
        "classifier_1 = generate_clf(0.0001, 1000)\n",
        "plot_decision_boundary(X, y, classifier_1)"
      ],
      "metadata": {
        "colab": {
          "base_uri": "https://localhost:8080/",
          "height": 367
        },
        "id": "P4a7KLCLCijD",
        "outputId": "96f7a4a1-a205-41fc-aaa1-85085538abed"
      },
      "execution_count": null,
      "outputs": [
        {
          "output_type": "stream",
          "name": "stdout",
          "text": [
            "Training Accuracy = 0.88\n"
          ]
        },
        {
          "output_type": "display_data",
          "data": {
            "text/plain": [
              "<Figure size 360x360 with 1 Axes>"
            ],
            "image/png": "[encoded data removed]"
          },
          "metadata": {
            "needs_background": "light"
          }
        }
      ]
    },
    {
      "cell_type": "code",
      "source": [
        "classifier_2 = generate_clf(0.001, 1000)\n",
        "plot_decision_boundary(X, y, classifier_2)"
      ],
      "metadata": {
        "colab": {
          "base_uri": "https://localhost:8080/",
          "height": 367
        },
        "id": "krQPntebCort",
        "outputId": "1aeb7185-2dfb-4da1-930d-04e61fd5a205"
      },
      "execution_count": null,
      "outputs": [
        {
          "output_type": "stream",
          "name": "stdout",
          "text": [
            "Training Accuracy = 0.915\n"
          ]
        },
        {
          "output_type": "display_data",
          "data": {
            "text/plain": [
              "<Figure size 360x360 with 1 Axes>"
            ],
            "image/png": "[encoded data removed]"
          },
          "metadata": {
            "needs_background": "light"
          }
        }
      ]
    },
    {
      "cell_type": "code",
      "source": [
        "classifier_3 = generate_clf(0.01, 1000)\n",
        "plot_decision_boundary(X, y, classifier_3)"
      ],
      "metadata": {
        "colab": {
          "base_uri": "https://localhost:8080/",
          "height": 367
        },
        "id": "a3YA_xEZCssR",
        "outputId": "9424871e-eebc-4422-e350-8c72ffd804e1"
      },
      "execution_count": null,
      "outputs": [
        {
          "output_type": "stream",
          "name": "stdout",
          "text": [
            "Training Accuracy = 0.915\n"
          ]
        },
        {
          "output_type": "display_data",
          "data": {
            "text/plain": [
              "<Figure size 360x360 with 1 Axes>"
            ],
            "image/png": "[encoded data removed]"
          },
          "metadata": {
            "needs_background": "light"
          }
        }
      ]
    },
    {
      "cell_type": "markdown",
      "source": [
        "# C"
      ],
      "metadata": {
        "id": "-eSPAfRbImqt"
      }
    },
    {
      "cell_type": "code",
      "source": [
        "classifier_4 = generate_clf(0.01, 1)\n",
        "plot_decision_boundary(X, y, classifier_4)"
      ],
      "metadata": {
        "colab": {
          "base_uri": "https://localhost:8080/",
          "height": 367
        },
        "id": "GbvV66RbHsCW",
        "outputId": "ac124c37-7740-447f-fe70-24e0c4b7b311"
      },
      "execution_count": null,
      "outputs": [
        {
          "output_type": "stream",
          "name": "stdout",
          "text": [
            "Training Accuracy = 0.88\n"
          ]
        },
        {
          "output_type": "display_data",
          "data": {
            "text/plain": [
              "<Figure size 360x360 with 1 Axes>"
            ],
            "image/png": "[encoded data removed]"
          },
          "metadata": {
            "needs_background": "light"
          }
        }
      ]
    },
    {
      "cell_type": "code",
      "source": [
        "classifier_5 = generate_clf(0.01, 10)\n",
        "plot_decision_boundary(X, y, classifier_5)"
      ],
      "metadata": {
        "colab": {
          "base_uri": "https://localhost:8080/",
          "height": 367
        },
        "id": "va8N1xM3IFoc",
        "outputId": "9feb7366-94cf-4652-b373-4de957587390"
      },
      "execution_count": null,
      "outputs": [
        {
          "output_type": "stream",
          "name": "stdout",
          "text": [
            "Training Accuracy = 0.92\n"
          ]
        },
        {
          "output_type": "display_data",
          "data": {
            "text/plain": [
              "<Figure size 360x360 with 1 Axes>"
            ],
            "image/png": "[encoded data removed]"
          },
          "metadata": {
            "needs_background": "light"
          }
        }
      ]
    },
    {
      "cell_type": "code",
      "source": [
        "classifier_6 = generate_clf(0.01, 10000)\n",
        "plot_decision_boundary(X, y, classifier_6)"
      ],
      "metadata": {
        "colab": {
          "base_uri": "https://localhost:8080/",
          "height": 367
        },
        "id": "WVoDO4n3Is4N",
        "outputId": "8dddbc46-ec45-4cf2-b54e-806aa1e7aaa1"
      },
      "execution_count": null,
      "outputs": [
        {
          "output_type": "stream",
          "name": "stdout",
          "text": [
            "Training Accuracy = 0.92\n"
          ]
        },
        {
          "output_type": "display_data",
          "data": {
            "text/plain": [
              "<Figure size 360x360 with 1 Axes>"
            ],
            "image/png": "[encoded data removed]"
          },
          "metadata": {
            "needs_background": "light"
          }
        }
      ]
    }
  ]
}