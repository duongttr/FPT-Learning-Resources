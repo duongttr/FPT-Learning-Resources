{
 "cells": [
  {
   "cell_type": "markdown",
   "id": "39ee76ec",
   "metadata": {},
   "source": [
    "# Nhập dữ liệu"
   ]
  },
  {
   "cell_type": "code",
   "execution_count": 22,
   "id": "9063babf",
   "metadata": {},
   "outputs": [],
   "source": [
    "import pandas as pd"
   ]
  },
  {
   "cell_type": "code",
   "execution_count": 23,
   "id": "c2136ea5",
   "metadata": {},
   "outputs": [
    {
     "name": "stdout",
     "output_type": "stream",
     "text": [
      "Nhập số ma trận: 6\n",
      "Nhập ma trận 1: 30 35 5\n",
      "Giá trị nhập không hợp lệ, vui lòng thử lại!\n",
      "Nhập ma trận 1: 30 35\n",
      "Nhập ma trận 2: 35 15\n",
      "Nhập ma trận 3: 15 5\n",
      "Nhập ma trận 4: 5\n",
      "Giá trị nhập không hợp lệ, vui lòng thử lại!\n",
      "Nhập ma trận 4: 5 10\n",
      "Nhập ma trận 5: 10 20\n",
      "Nhập ma trận 6: 20 25\n"
     ]
    }
   ],
   "source": [
    "while True:\n",
    "    try:\n",
    "        N = int(input(\"Nhập số ma trận: \"))\n",
    "        if N < 0:\n",
    "            print('Số lượng ma trận không hợp lệ')\n",
    "            continue\n",
    "        break\n",
    "    except:\n",
    "        print('Giá trị nhập không hợp lệ')\n",
    "\n",
    "D = []\n",
    "i = 0\n",
    "while i < N:\n",
    "    try:\n",
    "        x, y = tuple(map(int,input(f\"Nhập ma trận {i+1}: \").split()))\n",
    "    except:\n",
    "        print('Giá trị nhập không hợp lệ, vui lòng thử lại!')\n",
    "        continue\n",
    "        \n",
    "    if x <= 0 or y <= 0:\n",
    "        print('Hàng hoặc cột phải lớn hơn 0')\n",
    "        continue\n",
    "    elif len(D) != 0:\n",
    "        if x != D[-1][-1]:\n",
    "            print('Hàng của ma trận không khớp với ma trận trước')\n",
    "            continue\n",
    "    \n",
    "    D.append((x, y))\n",
    "    i += 1"
   ]
  },
  {
   "cell_type": "code",
   "execution_count": 24,
   "id": "cadba8d9",
   "metadata": {},
   "outputs": [
    {
     "name": "stdout",
     "output_type": "stream",
     "text": [
      "Shape của các ma trận lần lượt là: 30x35 , 35x15 , 15x5 , 5x10 , 10x20 , 20x25\n"
     ]
    }
   ],
   "source": [
    "print('Shape của các ma trận lần lượt là:', ' , '.join(f'{d[0]}x{d[1]}' for d in D))"
   ]
  },
  {
   "cell_type": "markdown",
   "id": "3c00b62e",
   "metadata": {},
   "source": [
    "# Quy hoạch động"
   ]
  },
  {
   "cell_type": "code",
   "execution_count": 25,
   "id": "512fc233",
   "metadata": {},
   "outputs": [],
   "source": [
    "def find_matrix_chain_multiplication(N, D):\n",
    "    M = [[0 for _ in range(N)] for _ in range(N)]\n",
    "    L = [[f'A{i+1}' if i == j else '' for i in range(N)] for j in range(N)]\n",
    "    \n",
    "    for j in range(1, N):\n",
    "        ii = 0\n",
    "        jj = j\n",
    "        while ii < N and jj < N:\n",
    "            curr_min = float('inf')\n",
    "            K = 0\n",
    "            for kk in range(ii, jj):\n",
    "                x = M[ii][kk] + M[kk+1][jj] + D[ii][0]*D[kk+1][0]*D[jj][1]\n",
    "                if curr_min > x:\n",
    "                    curr_min = x\n",
    "                    K = kk\n",
    "                    \n",
    "            M[ii][jj] = curr_min\n",
    "            \n",
    "            L[ii][jj] = ('(' if ii != K else '') + L[ii][K] + (')' if ii != K else '') \\\n",
    "                        + ('(' if jj != K+1 else '') + L[K+1][jj] + (')' if jj != K+1 else '')\n",
    "            ii += 1\n",
    "            jj += 1\n",
    "    return pd.DataFrame(M, columns = range(1, N+1), index = range(1, N+1)), \\\n",
    "            pd.DataFrame(L, columns = range(1, N+1), index = range(1, N+1))"
   ]
  },
  {
   "cell_type": "code",
   "execution_count": 26,
   "id": "453a8a1b",
   "metadata": {},
   "outputs": [],
   "source": [
    "df_value, df_label = find_matrix_chain_multiplication(N, D)"
   ]
  },
  {
   "cell_type": "markdown",
   "id": "227a4aa8",
   "metadata": {},
   "source": [
    "# Kết quả"
   ]
  },
  {
   "cell_type": "code",
   "execution_count": 27,
   "id": "cc87e37e",
   "metadata": {},
   "outputs": [
    {
     "data": {
      "text/html": [
       "<div>\n",
       "<style scoped>\n",
       "    .dataframe tbody tr th:only-of-type {\n",
       "        vertical-align: middle;\n",
       "    }\n",
       "\n",
       "    .dataframe tbody tr th {\n",
       "        vertical-align: top;\n",
       "    }\n",
       "\n",
       "    .dataframe thead th {\n",
       "        text-align: right;\n",
       "    }\n",
       "</style>\n",
       "<table border=\"1\" class=\"dataframe\">\n",
       "  <thead>\n",
       "    <tr style=\"text-align: right;\">\n",
       "      <th></th>\n",
       "      <th>1</th>\n",
       "      <th>2</th>\n",
       "      <th>3</th>\n",
       "      <th>4</th>\n",
       "      <th>5</th>\n",
       "      <th>6</th>\n",
       "    </tr>\n",
       "  </thead>\n",
       "  <tbody>\n",
       "    <tr>\n",
       "      <th>1</th>\n",
       "      <td>0</td>\n",
       "      <td>15750</td>\n",
       "      <td>7875</td>\n",
       "      <td>9375</td>\n",
       "      <td>11875</td>\n",
       "      <td>15125</td>\n",
       "    </tr>\n",
       "    <tr>\n",
       "      <th>2</th>\n",
       "      <td>0</td>\n",
       "      <td>0</td>\n",
       "      <td>2625</td>\n",
       "      <td>4375</td>\n",
       "      <td>7125</td>\n",
       "      <td>10500</td>\n",
       "    </tr>\n",
       "    <tr>\n",
       "      <th>3</th>\n",
       "      <td>0</td>\n",
       "      <td>0</td>\n",
       "      <td>0</td>\n",
       "      <td>750</td>\n",
       "      <td>2500</td>\n",
       "      <td>5375</td>\n",
       "    </tr>\n",
       "    <tr>\n",
       "      <th>4</th>\n",
       "      <td>0</td>\n",
       "      <td>0</td>\n",
       "      <td>0</td>\n",
       "      <td>0</td>\n",
       "      <td>1000</td>\n",
       "      <td>3500</td>\n",
       "    </tr>\n",
       "    <tr>\n",
       "      <th>5</th>\n",
       "      <td>0</td>\n",
       "      <td>0</td>\n",
       "      <td>0</td>\n",
       "      <td>0</td>\n",
       "      <td>0</td>\n",
       "      <td>5000</td>\n",
       "    </tr>\n",
       "    <tr>\n",
       "      <th>6</th>\n",
       "      <td>0</td>\n",
       "      <td>0</td>\n",
       "      <td>0</td>\n",
       "      <td>0</td>\n",
       "      <td>0</td>\n",
       "      <td>0</td>\n",
       "    </tr>\n",
       "  </tbody>\n",
       "</table>\n",
       "</div>"
      ],
      "text/plain": [
       "   1      2     3     4      5      6\n",
       "1  0  15750  7875  9375  11875  15125\n",
       "2  0      0  2625  4375   7125  10500\n",
       "3  0      0     0   750   2500   5375\n",
       "4  0      0     0     0   1000   3500\n",
       "5  0      0     0     0      0   5000\n",
       "6  0      0     0     0      0      0"
      ]
     },
     "execution_count": 27,
     "metadata": {},
     "output_type": "execute_result"
    }
   ],
   "source": [
    "df_value"
   ]
  },
  {
   "cell_type": "code",
   "execution_count": 28,
   "id": "b978da35",
   "metadata": {},
   "outputs": [
    {
     "data": {
      "text/html": [
       "<div>\n",
       "<style scoped>\n",
       "    .dataframe tbody tr th:only-of-type {\n",
       "        vertical-align: middle;\n",
       "    }\n",
       "\n",
       "    .dataframe tbody tr th {\n",
       "        vertical-align: top;\n",
       "    }\n",
       "\n",
       "    .dataframe thead th {\n",
       "        text-align: right;\n",
       "    }\n",
       "</style>\n",
       "<table border=\"1\" class=\"dataframe\">\n",
       "  <thead>\n",
       "    <tr style=\"text-align: right;\">\n",
       "      <th></th>\n",
       "      <th>1</th>\n",
       "      <th>2</th>\n",
       "      <th>3</th>\n",
       "      <th>4</th>\n",
       "      <th>5</th>\n",
       "      <th>6</th>\n",
       "    </tr>\n",
       "  </thead>\n",
       "  <tbody>\n",
       "    <tr>\n",
       "      <th>1</th>\n",
       "      <td>A1</td>\n",
       "      <td>A1A2</td>\n",
       "      <td>A1(A2A3)</td>\n",
       "      <td>(A1(A2A3))A4</td>\n",
       "      <td>(A1(A2A3))(A4A5)</td>\n",
       "      <td>(A1(A2A3))((A4A5)A6)</td>\n",
       "    </tr>\n",
       "    <tr>\n",
       "      <th>2</th>\n",
       "      <td></td>\n",
       "      <td>A2</td>\n",
       "      <td>A2A3</td>\n",
       "      <td>(A2A3)A4</td>\n",
       "      <td>(A2A3)(A4A5)</td>\n",
       "      <td>(A2A3)((A4A5)A6)</td>\n",
       "    </tr>\n",
       "    <tr>\n",
       "      <th>3</th>\n",
       "      <td></td>\n",
       "      <td></td>\n",
       "      <td>A3</td>\n",
       "      <td>A3A4</td>\n",
       "      <td>A3(A4A5)</td>\n",
       "      <td>A3((A4A5)A6)</td>\n",
       "    </tr>\n",
       "    <tr>\n",
       "      <th>4</th>\n",
       "      <td></td>\n",
       "      <td></td>\n",
       "      <td></td>\n",
       "      <td>A4</td>\n",
       "      <td>A4A5</td>\n",
       "      <td>(A4A5)A6</td>\n",
       "    </tr>\n",
       "    <tr>\n",
       "      <th>5</th>\n",
       "      <td></td>\n",
       "      <td></td>\n",
       "      <td></td>\n",
       "      <td></td>\n",
       "      <td>A5</td>\n",
       "      <td>A5A6</td>\n",
       "    </tr>\n",
       "    <tr>\n",
       "      <th>6</th>\n",
       "      <td></td>\n",
       "      <td></td>\n",
       "      <td></td>\n",
       "      <td></td>\n",
       "      <td></td>\n",
       "      <td>A6</td>\n",
       "    </tr>\n",
       "  </tbody>\n",
       "</table>\n",
       "</div>"
      ],
      "text/plain": [
       "    1     2         3             4                 5                     6\n",
       "1  A1  A1A2  A1(A2A3)  (A1(A2A3))A4  (A1(A2A3))(A4A5)  (A1(A2A3))((A4A5)A6)\n",
       "2        A2      A2A3      (A2A3)A4      (A2A3)(A4A5)      (A2A3)((A4A5)A6)\n",
       "3                  A3          A3A4          A3(A4A5)          A3((A4A5)A6)\n",
       "4                                A4              A4A5              (A4A5)A6\n",
       "5                                                  A5                  A5A6\n",
       "6                                                                        A6"
      ]
     },
     "execution_count": 28,
     "metadata": {},
     "output_type": "execute_result"
    }
   ],
   "source": [
    "df_label"
   ]
  },
  {
   "cell_type": "code",
   "execution_count": 29,
   "id": "07d87a73",
   "metadata": {},
   "outputs": [
    {
     "name": "stdout",
     "output_type": "stream",
     "text": [
      "Số lượng tính toán tối ưu: 15125\n",
      "Cách tính tối ưu: (A1(A2A3))((A4A5)A6)\n"
     ]
    }
   ],
   "source": [
    "print('Số lượng tính toán tối ưu:', df_value.iloc[0, N-1])\n",
    "print('Cách tính tối ưu:', df_label.iloc[0, N-1])"
   ]
  },
  {
   "cell_type": "code",
   "execution_count": null,
   "id": "24942ded",
   "metadata": {},
   "outputs": [],
   "source": []
  }
 ],
 "metadata": {
  "kernelspec": {
   "display_name": "Python 3 (ipykernel)",
   "language": "python",
   "name": "python3"
  },
  "language_info": {
   "codemirror_mode": {
    "name": "ipython",
    "version": 3
   },
   "file_extension": ".py",
   "mimetype": "text/x-python",
   "name": "python",
   "nbconvert_exporter": "python",
   "pygments_lexer": "ipython3",
   "version": "3.9.13"
  }
 },
 "nbformat": 4,
 "nbformat_minor": 5
}
