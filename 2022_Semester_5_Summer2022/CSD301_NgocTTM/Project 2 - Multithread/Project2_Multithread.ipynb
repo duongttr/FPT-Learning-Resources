{
 "cells": [
  {
   "cell_type": "code",
   "execution_count": 1,
   "metadata": {},
   "outputs": [],
   "source": [
    "import time\n",
    "import random\n",
    "import numpy as np\n",
    "from multiprocessing.dummy import Pool"
   ]
  },
  {
   "cell_type": "code",
   "execution_count": 36,
   "metadata": {},
   "outputs": [],
   "source": [
    "def calculate_sum(arr):\n",
    "    ret = 0\n",
    "    for elem in arr:\n",
    "        ret += elem\n",
    "    return ret\n",
    "\n",
    "def calculate_sum_multithread(arr, thread=2):\n",
    "    #arr_split = np.array_split(arr, thread)\n",
    "    arr_split = [list(a) for a in np.array_split(arr, thread)]\n",
    "    \n",
    "    total_sum = 0\n",
    "    with Pool(thread) as p:\n",
    "        for i in p.map(calculate_sum, arr_split):\n",
    "            total_sum += i\n",
    "    return total_sum"
   ]
  },
  {
   "cell_type": "code",
   "execution_count": 43,
   "metadata": {},
   "outputs": [],
   "source": [
    "random.seed(999)\n",
    "number_of_elements = 10_000_000\n",
    "lower = -1_000\n",
    "upper = 1_000\n",
    "arr = [random.randint(lower, upper) for _ in range(number_of_elements)]"
   ]
  },
  {
   "cell_type": "code",
   "execution_count": 48,
   "metadata": {},
   "outputs": [
    {
     "name": "stdout",
     "output_type": "stream",
     "text": [
      "Linear calculation: Sum: 2110096, 0.6565s\n"
     ]
    }
   ],
   "source": [
    "# Linear\n",
    "\n",
    "S = 0\n",
    "stime = time.perf_counter()\n",
    "for v in arr:\n",
    "    S += v\n",
    "\n",
    "etime = time.perf_counter()\n",
    "\n",
    "print(f\"Linear calculation: Sum: {S}, {etime-stime:.4f}s\")"
   ]
  },
  {
   "cell_type": "code",
   "execution_count": 49,
   "metadata": {},
   "outputs": [
    {
     "name": "stdout",
     "output_type": "stream",
     "text": [
      "1 thread(s): sum=2110096, time=1.2900s\n",
      "2 thread(s): sum=2110096, time=1.2468s\n",
      "3 thread(s): sum=2110096, time=1.2837s\n",
      "4 thread(s): sum=2110096, time=1.2781s\n",
      "5 thread(s): sum=2110096, time=1.2825s\n",
      "6 thread(s): sum=2110096, time=1.2793s\n",
      "7 thread(s): sum=2110096, time=1.2118s\n",
      "8 thread(s): sum=2110096, time=1.2145s\n",
      "9 thread(s): sum=2110096, time=1.2198s\n",
      "10 thread(s): sum=2110096, time=1.2161s\n"
     ]
    }
   ],
   "source": [
    "max_threading = 10\n",
    "\n",
    "for i in range(max_threading):\n",
    "    st = time.perf_counter()\n",
    "    result = calculate_sum_multithread(arr, i+1)\n",
    "    et = time.perf_counter()\n",
    "    print(f'{i+1} thread(s): sum={result}, time={et-st:.4f}s')"
   ]
  },
  {
   "cell_type": "code",
   "execution_count": 50,
   "metadata": {},
   "outputs": [
    {
     "name": "stdout",
     "output_type": "stream",
     "text": [
      "NumPy calculation: Sum: 2110096, 0.0035s\n"
     ]
    }
   ],
   "source": [
    "np_arr = np.array(arr)\n",
    "stime = time.perf_counter()\n",
    "S = np_arr.sum()\n",
    "etime = time.perf_counter()\n",
    "\n",
    "print(f\"NumPy calculation: Sum: {S}, {etime-stime:.4f}s\")"
   ]
  },
  {
   "cell_type": "code",
   "execution_count": null,
   "metadata": {},
   "outputs": [],
   "source": []
  }
 ],
 "metadata": {
  "kernelspec": {
   "display_name": "Python 3.10.5 ('env': venv)",
   "language": "python",
   "name": "python3"
  },
  "language_info": {
   "codemirror_mode": {
    "name": "ipython",
    "version": 3
   },
   "file_extension": ".py",
   "mimetype": "text/x-python",
   "name": "python",
   "nbconvert_exporter": "python",
   "pygments_lexer": "ipython3",
   "version": "3.10.5"
  },
  "orig_nbformat": 4,
  "vscode": {
   "interpreter": {
    "hash": "ebce7ba3fe8d5b0e41c8812db62df0a5692f2ced7189790f06e14ba866f79c7e"
   }
  }
 },
 "nbformat": 4,
 "nbformat_minor": 2
}
